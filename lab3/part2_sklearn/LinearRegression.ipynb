{
 "cells": [
  {
   "cell_type": "code",
   "execution_count": 2,
   "metadata": {},
   "outputs": [],
   "source": [
    "import pandas as pd\n",
    "import numpy as np\n",
    "import matplotlib.pyplot as plt\n",
    "\n",
    "from sklearn.linear_model import LinearRegression, Ridge, Lasso\n",
    "\n",
    "from sklearn import datasets\n",
    "from sklearn.model_selection import train_test_split"
   ]
  },
  {
   "cell_type": "markdown",
   "metadata": {},
   "source": [
    "## Linear Regression with Polynomial Curve Fitting\t\n"
   ]
  },
  {
   "cell_type": "code",
   "execution_count": 5,
   "metadata": {},
   "outputs": [],
   "source": [
    "#data loading\n",
    "df = pd.read_csv('globalTemp.csv')\n",
    "x = df['Year'].to_numpy()\n",
    "y = df['Actual Temp'].to_numpy()"
   ]
  },
  {
   "cell_type": "code",
   "execution_count": 6,
   "metadata": {},
   "outputs": [
    {
     "data": {
      "text/plain": [
       "<matplotlib.collections.PathCollection at 0x1cd47b7ee40>"
      ]
     },
     "execution_count": 6,
     "metadata": {},
     "output_type": "execute_result"
    },
    {
     "data": {
      "image/png": "[encoded data removed]",
      "text/plain": [
       "<Figure size 640x480 with 1 Axes>"
      ]
     },
     "metadata": {},
     "output_type": "display_data"
    }
   ],
   "source": [
    "plt.scatter(x, y, s = 10)"
   ]
  },
  {
   "cell_type": "code",
   "execution_count": 7,
   "metadata": {},
   "outputs": [],
   "source": [
    "# 用二阶多项式去拟合\n",
    "\n",
    "order = 2 #多项式的阶数\n",
    "X = np.array([x**i for i in range(order+1)]).T"
   ]
  },
  {
   "cell_type": "code",
   "execution_count": 8,
   "metadata": {},
   "outputs": [
    {
     "name": "stdout",
     "output_type": "stream",
     "text": [
      "[      1    1880 3534400]\n",
      "(137, 3)\n"
     ]
    }
   ],
   "source": [
    "print(X[0])\n",
    "print(X.shape)"
   ]
  },
  {
   "cell_type": "markdown",
   "metadata": {},
   "source": [
    "Task: implement yourself linear regression using numpy"
   ]
  },
  {
   "cell_type": "code",
   "execution_count": null,
   "metadata": {},
   "outputs": [],
   "source": [
    "X_b = np.c_[np.ones((X.shape[0], 1)), X]\n",
    "W = np.linalg.inv(X_b.T @ X_b) @ X_b.T @ y\n",
    "y_hat = X_b @ W"
   ]
  },
  {
   "cell_type": "markdown",
   "metadata": {},
   "source": [
    "Task: implement linear regression using the functions from sklearn\n",
    "\n",
    "[reference](https://scikit-learn.org/stable/modules/generated/sklearn.linear_model.LinearRegression.html#sklearn.linear_model.LinearRegression)"
   ]
  },
  {
   "cell_type": "code",
   "execution_count": null,
   "metadata": {},
   "outputs": [],
   "source": [
    "model = LinearRegression(fit_intercept=True)\n",
    "model.fit(X, y)\n",
    "W_2 = np.concatenate([[model.intercept_], model.coef_])"
   ]
  },
  {
   "cell_type": "markdown",
   "metadata": {},
   "source": [
    "verify your answer with codes below"
   ]
  },
  {
   "cell_type": "code",
   "execution_count": null,
   "metadata": {},
   "outputs": [],
   "source": [
    "print(\"our weight = \", W)\n",
    "print(\"sklearn weight = \", W_2)"
   ]
  },
  {
   "cell_type": "code",
   "execution_count": null,
   "metadata": {},
   "outputs": [],
   "source": [
    "plt.scatter(x, y, s=10, c=\"r\")\n",
    "plt.plot(x, y_hat,c=\"k\")\n",
    "plt.plot(x, y_hat2)"
   ]
  },
  {
   "cell_type": "markdown",
   "metadata": {},
   "source": [
    "## Linear Regression"
   ]
  },
  {
   "cell_type": "code",
   "execution_count": null,
   "metadata": {},
   "outputs": [],
   "source": [
    "N_SAMPLES = 500\n",
    "N_FEATURES = 200\n",
    "NOISE = 3\n",
    "data = datasets.make_regression(n_samples=N_SAMPLES, \n",
    "                                n_features=N_FEATURES, \n",
    "                                n_informative=5, \n",
    "                                noise=NOISE, \n",
    "                                random_state=9961)\n",
    "X = data[0]\n",
    "y = data[1]\n",
    "X_train, X_test, y_train, y_test = train_test_split(X, y, test_size=0.3, random_state=9961)\n",
    "print(X_train.shape, y_train.shape)\n",
    "print(X_test.shape, y_test.shape)"
   ]
  },
  {
   "cell_type": "markdown",
   "metadata": {},
   "source": [
    "Task: use numpy to implement linear regression via the normal equation, compute the L2 and L1 norms of the learned weights, and evaluate the mean squared error on both training and test data."
   ]
  },
  {
   "cell_type": "code",
   "execution_count": null,
   "metadata": {},
   "outputs": [],
   "source": [
    "def linear_regression_normal_equation(X, y):\n",
    "    \"\"\"使用正规方程实现线性回归\"\"\"\n",
    "    X_b = np.c_[np.ones((X.shape[0], 1)), X]  # 添加偏置项\n",
    "    theta = np.linalg.inv(X_b.T @ X_b) @ X_b.T @ y\n",
    "    return theta\n",
    "\n",
    "# 训练模型\n",
    "theta = linear_regression_normal_equation(X_train, y_train)\n",
    "\n",
    "# 预测\n",
    "X_train_b = np.c_[np.ones((X_train.shape[0], 1)), X_train]\n",
    "X_test_b = np.c_[np.ones((X_test.shape[0], 1)), X_test]\n",
    "y_train_pred = X_train_b @ theta\n",
    "y_test_pred = X_test_b @ theta\n",
    "\n",
    "# 计算指标\n",
    "train_mse = mean_squared_error(y_train, y_train_pred)\n",
    "test_mse = mean_squared_error(y_test, y_test_pred)\n",
    "l2_norm = np.linalg.norm(theta[1:])  # 不包括偏置项\n",
    "l1_norm = np.sum(np.abs(theta[1:]))\n",
    "\n",
    "print(\"=\"*50)\n",
    "print(\"NumPy实现结果:\")\n",
    "print(f\"训练集MSE: {train_mse:.4f}\")\n",
    "print(f\"测试集MSE: {test_mse:.4f}\")\n",
    "print(f\"权重L2范数: {l2_norm:.4f}\")\n",
    "print(f\"权重L1范数: {l1_norm:.4f}\")\n"
   ]
  },
  {
   "cell_type": "markdown",
   "metadata": {},
   "source": [
    "Task: use scikit-learn’s LinearRegression to fit the same model without an intercept, compute the L2 and L1 norms of the learned weights, and evaluate the mean squared error on both training and test data."
   ]
  },
  {
   "cell_type": "code",
   "execution_count": null,
   "metadata": {},
   "outputs": [],
   "source": [
    "sklearn_model = LinearRegression(fit_intercept=True)\n",
    "sklearn_model.fit(X_train, y_train)\n",
    "\n",
    "y_train_pred_sk = sklearn_model.predict(X_train)\n",
    "y_test_pred_sk = sklearn_model.predict(X_test)\n",
    "\n",
    "train_mse_sk = mean_squared_error(y_train, y_train_pred_sk)\n",
    "test_mse_sk = mean_squared_error(y_test, y_test_pred_sk)\n",
    "l2_norm_sk = np.linalg.norm(sklearn_model.coef_)\n",
    "l1_norm_sk = np.sum(np.abs(sklearn_model.coef_))\n",
    "\n",
    "print(\"=\"*50)\n",
    "print(\"sklearn实现结果:\")\n",
    "print(f\"训练集MSE: {train_mse_sk:.4f}\")\n",
    "print(f\"测试集MSE: {test_mse_sk:.4f}\")\n",
    "print(f\"权重L2范数: {l2_norm_sk:.4f}\")\n",
    "print(f\"权重L1范数: {l1_norm_sk:.4f}\")\n",
    "\n",
    "# 验证结果一致性\n",
    "print(\"=\"*50)\n",
    "print(\"结果比较:\")\n",
    "print(f\"MSE差异: {abs(train_mse - train_mse_sk):.10f}\")\n",
    "print(f\"权重范数差异: {abs(l2_norm - l2_norm_sk):.10f}\")"
   ]
  },
  {
   "cell_type": "markdown",
   "metadata": {},
   "source": [
    "## Ridge Regression"
   ]
  },
  {
   "cell_type": "markdown",
   "metadata": {},
   "source": [
    "Task: use numpy to implement ridge regression with various values of regularization strength via the closed-form solution, compute the L2 norm of the learned weights, and evaluate the mean squared error on both training and test data."
   ]
  },
  {
   "cell_type": "code",
   "execution_count": null,
   "metadata": {},
   "outputs": [],
   "source": [
    "def ridge_regression(X, y, alpha=1.0):\n",
    "    \"\"\"使用闭式解实现岭回归\"\"\"\n",
    "    X_b = np.c_[np.ones((X.shape[0], 1)), X]\n",
    "    n_features = X_b.shape[1]\n",
    "    # theta = (X^T X + alpha * I)^(-1) X^T y\n",
    "    identity = np.eye(n_features)\n",
    "    identity[0, 0] = 0  # 不对偏置项进行正则化\n",
    "    theta = np.linalg.inv(X_b.T @ X_b + alpha * identity) @ X_b.T @ y\n",
    "    return theta\n",
    "\n",
    "# 测试不同的正则化强度\n",
    "alphas = [0, 0.1, 1, 10, 100, 1000]\n",
    "\n",
    "print(\"=\"*60)\n",
    "print(\"岭回归结果 (NumPy实现)\")\n",
    "print(\"=\"*60)\n",
    "\n",
    "for alpha in alphas:\n",
    "    theta_ridge = ridge_regression(X_train, y_train, alpha)\n",
    "    \n",
    "    # 预测\n",
    "    X_train_b = np.c_[np.ones((X_train.shape[0], 1)), X_train]\n",
    "    X_test_b = np.c_[np.ones((X_test.shape[0], 1)), X_test]\n",
    "    y_train_pred_ridge = X_train_b @ theta_ridge\n",
    "    y_test_pred_ridge = X_test_b @ theta_ridge\n",
    "    \n",
    "    # 计算指标\n",
    "    train_mse_ridge = mean_squared_error(y_train, y_train_pred_ridge)\n",
    "    test_mse_ridge = mean_squared_error(y_test, y_test_pred_ridge)\n",
    "    l2_norm_ridge = np.linalg.norm(theta_ridge[1:])\n",
    "    \n",
    "    print(f\"alpha={alpha}:\")\n",
    "    print(f\"  训练集MSE: {train_mse_ridge:.4f}, 测试集MSE: {test_mse_ridge:.4f}\")\n",
    "    print(f\"  权重L2范数: {l2_norm_ridge:.4f}\")\n",
    "    print()"
   ]
  },
  {
   "cell_type": "markdown",
   "metadata": {},
   "source": [
    "Task: use scikit-learn’s Ridge to fit a ridge-regression model with various values of $\\lambda$ and no intercept, compute the L2 norm of the learned weights, and evaluate the mean squared error on both training and test data."
   ]
  },
  {
   "cell_type": "code",
   "execution_count": null,
   "metadata": {},
   "outputs": [],
   "source": [
    "# Task: 使用sklearn的Ridge\n",
    "print(\"=\"*60)\n",
    "print(\"岭回归结果 (sklearn实现)\")\n",
    "print(\"=\"*60)\n",
    "\n",
    "for alpha in alphas:\n",
    "    ridge_model = Ridge(alpha=alpha, fit_intercept=True)\n",
    "    ridge_model.fit(X_train, y_train)\n",
    "    \n",
    "    y_train_pred_ridge_sk = ridge_model.predict(X_train)\n",
    "    y_test_pred_ridge_sk = ridge_model.predict(X_test)\n",
    "    \n",
    "    train_mse_ridge_sk = mean_squared_error(y_train, y_train_pred_ridge_sk)\n",
    "    test_mse_ridge_sk = mean_squared_error(y_test, y_test_pred_ridge_sk)\n",
    "    l2_norm_ridge_sk = np.linalg.norm(ridge_model.coef_)\n",
    "    \n",
    "    print(f\"alpha={alpha}:\")\n",
    "    print(f\"  训练集MSE: {train_mse_ridge_sk:.4f}, 测试集MSE: {test_mse_ridge_sk:.4f}\")\n",
    "    print(f\"  权重L2范数: {l2_norm_ridge_sk:.4f}\")\n",
    "    print()"
   ]
  },
  {
   "cell_type": "markdown",
   "metadata": {},
   "source": [
    "## Lasso"
   ]
  },
  {
   "cell_type": "markdown",
   "metadata": {},
   "source": [
    "Task: use scikit-learn’s Lasso to fit a Lasso-regression model with various values of $\\lambda$ and no intercept, compute the L1 norm of the learned weights, report the mean squared error on both training and test data, and count the number of non-zero weights."
   ]
  },
  {
   "cell_type": "code",
   "execution_count": null,
   "metadata": {},
   "outputs": [],
   "source": [
    "print(\"=\"*60)\n",
    "print(\"Lasso回归结果\")\n",
    "print(\"=\"*60)\n",
    "\n",
    "alphas_lasso = [0.001, 0.01, 0.1, 1, 10, 100]\n",
    "\n",
    "for alpha in alphas_lasso:\n",
    "    lasso_model = Lasso(alpha=alpha, fit_intercept=True, max_iter=10000)\n",
    "    lasso_model.fit(X_train, y_train)\n",
    "    \n",
    "    y_train_pred_lasso = lasso_model.predict(X_train)\n",
    "    y_test_pred_lasso = lasso_model.predict(X_test)\n",
    "    \n",
    "    train_mse_lasso = mean_squared_error(y_train, y_train_pred_lasso)\n",
    "    test_mse_lasso = mean_squared_error(y_test, y_test_pred_lasso)\n",
    "    l1_norm_lasso = np.sum(np.abs(lasso_model.coef_))\n",
    "    non_zero_weights = np.sum(lasso_model.coef_ != 0)\n",
    "    \n",
    "    print(f\"alpha={alpha}:\")\n",
    "    print(f\"  训练集MSE: {train_mse_lasso:.4f}, 测试集MSE: {test_mse_lasso:.4f}\")\n",
    "    print(f\"  权重L1范数: {l1_norm_lasso:.4f}\")\n",
    "    print(f\"  非零权重数量: {non_zero_weights}\")\n",
    "    print()\n",
    "\n",
    "# 可视化正则化效果\n",
    "plt.figure(figsize=(15, 10))\n",
    "\n",
    "# 绘制权重范数随alpha变化\n",
    "plt.subplot(2, 2, 1)\n",
    "alphas_plot = [0.001, 0.01, 0.1, 1, 10, 100]\n",
    "l2_norms = []\n",
    "l1_norms = []\n",
    "non_zero_counts = []\n",
    "\n",
    "for alpha in alphas_plot:\n",
    "    lasso_model = Lasso(alpha=alpha, fit_intercept=True, max_iter=10000)\n",
    "    lasso_model.fit(X_train, y_train)\n",
    "    l2_norms.append(np.linalg.norm(lasso_model.coef_))\n",
    "    l1_norms.append(np.sum(np.abs(lasso_model.coef_)))\n",
    "    non_zero_counts.append(np.sum(lasso_model.coef_ != 0))\n",
    "\n",
    "plt.plot(alphas_plot, l2_norms, 'o-', label='L2 Norm')\n",
    "plt.plot(alphas_plot, l1_norms, 's-', label='L1 Norm')\n",
    "plt.xscale('log')\n",
    "plt.xlabel('Alpha (log scale)')\n",
    "plt.ylabel('Norm')\n",
    "plt.title('Weight Norms vs Alpha')\n",
    "plt.legend()\n",
    "plt.grid(True, alpha=0.3)\n",
    "\n",
    "# 绘制非零权重数量\n",
    "plt.subplot(2, 2, 2)\n",
    "plt.plot(alphas_plot, non_zero_counts, 'o-', color='red')\n",
    "plt.xscale('log')\n",
    "plt.xlabel('Alpha (log scale)')\n",
    "plt.ylabel('Number of non-zero weights')\n",
    "plt.title('Non-zero weights vs Alpha')\n",
    "plt.grid(True, alpha=0.3)\n",
    "\n",
    "# 绘制MSE随alpha变化\n",
    "plt.subplot(2, 2, 3)\n",
    "train_mses = []\n",
    "test_mses = []\n",
    "\n",
    "for alpha in alphas_plot:\n",
    "    lasso_model = Lasso(alpha=alpha, fit_intercept=True, max_iter=10000)\n",
    "    lasso_model.fit(X_train, y_train)\n",
    "    train_mses.append(mean_squared_error(y_train, lasso_model.predict(X_train)))\n",
    "    test_mses.append(mean_squared_error(y_test, lasso_model.predict(X_test)))\n",
    "\n",
    "plt.plot(alphas_plot, train_mses, 'o-', label='Train MSE')\n",
    "plt.plot(alphas_plot, test_mses, 's-', label='Test MSE')\n",
    "plt.xscale('log')\n",
    "plt.yscale('log')\n",
    "plt.xlabel('Alpha (log scale)')\n",
    "plt.ylabel('MSE (log scale)')\n",
    "plt.title('MSE vs Alpha')\n",
    "plt.legend()\n",
    "plt.grid(True, alpha=0.3)\n",
    "\n",
    "plt.tight_layout()\n",
    "plt.show()"
   ]
  }
 ],
 "metadata": {
  "kernelspec": {
   "display_name": "base",
   "language": "python",
   "name": "python3"
  },
  "language_info": {
   "codemirror_mode": {
    "name": "ipython",
    "version": 3
   },
   "file_extension": ".py",
   "mimetype": "text/x-python",
   "name": "python",
   "nbconvert_exporter": "python",
   "pygments_lexer": "ipython3",
   "version": "3.13.7"
  },
  "orig_nbformat": 4
 },
 "nbformat": 4,
 "nbformat_minor": 2
}
